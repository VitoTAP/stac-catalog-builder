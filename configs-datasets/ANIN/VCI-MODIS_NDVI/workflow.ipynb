{
 "cells": [
  {
   "cell_type": "code",
   "execution_count": null,
   "metadata": {},
   "outputs": [],
   "source": [
    "from pathlib import Path\n",
    "import pprint\n",
    "\n",
    "# run pip install -e . in the root directory to install this package\n",
    "from stacbuilder import *"
   ]
  },
  {
   "cell_type": "code",
   "execution_count": null,
   "metadata": {},
   "outputs": [],
   "source": [
    "# Collection configuration\n",
    "catalog_version = \"v0.1\"\n",
    "collection_config_path = Path(\"config-collection.json\")\n",
    "\n",
    "# Input Paths\n",
    "tiff_input_path = Path(\"/path/to/tiffs\")\n",
    "tiffs_glob = '*/*.tif'\n",
    "\n",
    "# Output Paths\n",
    "output_path = Path(\"results\")\n",
    "test_output_path = output_path / \"test\" / catalog_version\n",
    "publish_output_path = output_path / \"publish\" / catalog_version\n",
    "overwrite = True"
   ]
  },
  {
   "cell_type": "code",
   "execution_count": null,
   "metadata": {},
   "outputs": [],
   "source": [
    "# list input files\n",
    "input_files = list_input_files(\n",
    "    glob=tiffs_glob,\n",
    "    input_dir=tiff_input_path,\n",
    "    max_files=None\n",
    ")\n",
    "print(f\"Found {len(input_files)} input files. 5 first files:\")\n",
    "for i in input_files[:5]: print(i) "
   ]
  },
  {
   "cell_type": "code",
   "execution_count": null,
   "metadata": {},
   "outputs": [],
   "source": [
    "# list meta data\n",
    "asset_metadata = list_asset_metadata(\n",
    "    collection_config_path=collection_config_path,\n",
    "    glob=tiffs_glob,\n",
    "    input_dir=tiff_input_path,\n",
    "    max_files=1\n",
    ")\n",
    "for k in asset_metadata: \n",
    "    pprint.pprint(k.to_dict())"
   ]
  },
  {
   "cell_type": "code",
   "execution_count": null,
   "metadata": {},
   "outputs": [],
   "source": [
    "# list items\n",
    "stac_items, failed_files = list_stac_items(\n",
    "    collection_config_path=collection_config_path,\n",
    "    glob=tiffs_glob,\n",
    "    input_dir=tiff_input_path,\n",
    "    max_files=10\n",
    ")\n",
    "print(f\"Found {len(stac_items)} STAC items\")\n",
    "if failed_files: print(f\"Failed files: {failed_files}\")\n",
    "if len(stac_items) > 0:\n",
    "    print(\"First stac item:\")\n",
    "    stac_items[0]"
   ]
  },
  {
   "cell_type": "code",
   "execution_count": null,
   "metadata": {},
   "outputs": [],
   "source": [
    "# build grouped collection\n",
    "build_grouped_collections(\n",
    "    collection_config_path=collection_config_path,\n",
    "    glob=tiffs_glob,\n",
    "    input_dir=tiff_input_path,\n",
    "    output_dir=test_output_path,\n",
    "    overwrite=overwrite,\n",
    ")"
   ]
  },
  {
   "cell_type": "code",
   "execution_count": null,
   "metadata": {},
   "outputs": [],
   "source": [
    "# show collection\n",
    "load_collection(\n",
    "    collection_file=test_output_path / \"collection.json\"\n",
    ")"
   ]
  },
  {
   "cell_type": "code",
   "execution_count": null,
   "metadata": {},
   "outputs": [],
   "source": [
    "# validate collection\n",
    "validate_collection(\n",
    "    collection_file=test_output_path / \"collection.json\",\n",
    ")"
   ]
  },
  {
   "cell_type": "markdown",
   "metadata": {},
   "source": [
    "## Legacy\n",
    "Better to use grouped collections"
   ]
  },
  {
   "cell_type": "code",
   "execution_count": null,
   "metadata": {},
   "outputs": [],
   "source": [
    "# build collection\n",
    "build_collection(\n",
    "    collection_config_path=collection_config_path,\n",
    "    glob=tiffs_glob,\n",
    "    input_dir=tiff_input_path,\n",
    "    output_dir=test_output_path,\n",
    "    overwrite=overwrite,\n",
    ")"
   ]
  }
 ],
 "metadata": {
  "kernelspec": {
   "display_name": "stac-catalog-builder",
   "language": "python",
   "name": "python3"
  },
  "language_info": {
   "codemirror_mode": {
    "name": "ipython",
    "version": 3
   },
   "file_extension": ".py",
   "mimetype": "text/x-python",
   "name": "python",
   "nbconvert_exporter": "python",
   "pygments_lexer": "ipython3",
   "version": "3.11.0"
  }
 },
 "nbformat": 4,
 "nbformat_minor": 2
}
