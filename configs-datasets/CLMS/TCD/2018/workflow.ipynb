{
 "cells": [
  {
   "cell_type": "code",
   "execution_count": null,
   "metadata": {
    "notebookRunGroups": {
     "groupValue": "1"
    }
   },
   "outputs": [],
   "source": [
    "from upath import UPath\n",
    "from pathlib import Path\n",
    "import pprint\n",
    "from getpass import getpass\n",
    "from shapely import box\n",
    "\n",
    "# run pip install -e . in the root directory to install this package\n",
    "from stacbuilder import (\n",
    "    build_collection,\n",
    "    list_asset_metadata,\n",
    "    list_input_files,\n",
    "    list_stac_items,\n",
    "    upload_to_stac_api,\n",
    "    validate_collection,\n",
    ")\n",
    "from stacbuilder.stacapi import AuthSettings, Settings"
   ]
  },
  {
   "cell_type": "code",
   "execution_count": null,
   "metadata": {
    "notebookRunGroups": {
     "groupValue": "1"
    }
   },
   "outputs": [],
   "source": [
    "# Collection configuration\n",
    "catalog_version = \"v0.2\"\n",
    "collection_config_path = Path(\"config-collection.json\")\n",
    "\n",
    "# Input Paths\n",
    "tiff_input_path = UPath(\n",
    "    \"s3://eodata/CLMS/Pan-European/High_Resolution_Layers/Forests/Tree_Cover_Density/Status_Maps/Tree_Cover_Density_2018/\"\n",
    ")\n",
    "tiffs_glob = \"*/*/*_03035_v020.tif\"\n",
    "\n",
    "# Output Paths\n",
    "output_path = Path(\"results\")\n",
    "test_output_path = output_path / \"test\" / catalog_version\n",
    "publish_output_path = output_path / \"publish\" / catalog_version\n",
    "overwrite = True"
   ]
  },
  {
   "cell_type": "code",
   "execution_count": null,
   "metadata": {},
   "outputs": [],
   "source": [
    "# list input files\n",
    "input_files = list_input_files(glob=tiffs_glob, input_dir=tiff_input_path, max_files=None)\n",
    "print(f\"Found {len(input_files)} input files. 5 first files:\")\n",
    "for i in input_files[:5]:\n",
    "    print(i)"
   ]
  },
  {
   "cell_type": "code",
   "execution_count": null,
   "metadata": {},
   "outputs": [],
   "source": [
    "# list meta data\n",
    "asset_metadata = list_asset_metadata(\n",
    "    collection_config_path=collection_config_path, glob=tiffs_glob, input_dir=tiff_input_path, max_files=1\n",
    ")\n",
    "for k in asset_metadata:\n",
    "    pprint.pprint(k.to_dict())"
   ]
  },
  {
   "cell_type": "code",
   "execution_count": null,
   "metadata": {
    "notebookRunGroups": {
     "groupValue": "1"
    }
   },
   "outputs": [],
   "source": [
    "def item_postprocessor(item):\n",
    "    item.properties[\"proj:epsg\"] = 3035\n",
    "    return item"
   ]
  },
  {
   "cell_type": "code",
   "execution_count": null,
   "metadata": {},
   "outputs": [],
   "source": [
    "# list items\n",
    "stac_items, failed_files = list_stac_items(\n",
    "    collection_config_path=collection_config_path,\n",
    "    glob=tiffs_glob,\n",
    "    input_dir=tiff_input_path,\n",
    "    max_files=1,\n",
    "    item_postprocessor=item_postprocessor,\n",
    ")\n",
    "print(f\"Found {len(stac_items)} STAC items\")\n",
    "if failed_files:\n",
    "    print(f\"Failed files: {failed_files}\")"
   ]
  },
  {
   "cell_type": "code",
   "execution_count": null,
   "metadata": {},
   "outputs": [],
   "source": [
    "print(\"First stac item:\")\n",
    "stac_items[0]"
   ]
  },
  {
   "cell_type": "code",
   "execution_count": null,
   "metadata": {},
   "outputs": [],
   "source": [
    "# build collection\n",
    "build_collection(\n",
    "    collection_config_path=collection_config_path,\n",
    "    glob=tiffs_glob,\n",
    "    input_dir=tiff_input_path,\n",
    "    output_dir=test_output_path,\n",
    "    overwrite=overwrite,\n",
    "    link_items=False,\n",
    "    item_postprocessor=item_postprocessor,\n",
    ")\n",
    "\n",
    "# validate collection\n",
    "validate_collection(\n",
    "    collection_file=test_output_path / \"collection.json\",\n",
    ")"
   ]
  },
  {
   "cell_type": "code",
   "execution_count": null,
   "metadata": {},
   "outputs": [],
   "source": [
    "auth_settings = AuthSettings(\n",
    "    enabled=True,\n",
    "    interactive=False,\n",
    "    token_url=\"https://sso.terrascope.be/auth/realms/terrascope/protocol/openid-connect/token\",\n",
    "    authorization_url=\"https://sso.terrascope.be/auth/realms/terrascope/protocol/openid-connect/auth\",\n",
    "    client_id=\"terracatalogueclient\",\n",
    "    username=\"victor.verhaert\",\n",
    "    password=getpass(),\n",
    ")\n",
    "settings = Settings(\n",
    "    auth=auth_settings,\n",
    "    stac_api_url=\"https://stac.openeo.vito.be/\",\n",
    "    collection_auth_info={\"_auth\": {\"read\": [\"anonymous\"], \"write\": [\"stac-openeo-admin\", \"stac-openeo-editor\"]}},\n",
    "    bulk_size=1000,\n",
    ")\n",
    "upload_to_stac_api(\n",
    "    collection_path=test_output_path / \"collection.json\",\n",
    "    settings=settings,\n",
    ")"
   ]
  },
  {
   "cell_type": "code",
   "execution_count": null,
   "metadata": {},
   "outputs": [],
   "source": [
    "bbox = box(11.046005504476401, 47.38783029804821, 12.411462626880093, 48.3083796083107)\n",
    "bbox.to_geojson()"
   ]
  }
 ],
 "metadata": {
  "kernelspec": {
   "display_name": "stac-catalog-builder",
   "language": "python",
   "name": "python3"
  },
  "language_info": {
   "codemirror_mode": {
    "name": "ipython",
    "version": 3
   },
   "file_extension": ".py",
   "mimetype": "text/x-python",
   "name": "python",
   "nbconvert_exporter": "python",
   "pygments_lexer": "ipython3",
   "version": "3.11.0"
  }
 },
 "nbformat": 4,
 "nbformat_minor": 2
}
